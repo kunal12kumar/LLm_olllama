{
 "cells": [
  {
   "cell_type": "markdown",
   "id": "2c637935",
   "metadata": {},
   "source": [
    "IN this we are developing project in which we will give the url of any wikipedia by that wikipedia it will extract its details .First we will implement it by url webbeautifuls4 .After that we will use tools which we get intergrate to our llm and then solve ."
   ]
  },
  {
   "cell_type": "markdown",
   "id": "3801768f",
   "metadata": {},
   "source": [
    "First by Url\n"
   ]
  },
  {
   "cell_type": "code",
   "execution_count": null,
   "id": "c0334974",
   "metadata": {},
   "outputs": [],
   "source": [
    "# we will import all required library and function "
   ]
  },
  {
   "cell_type": "code",
   "execution_count": null,
   "id": "76cbcb28",
   "metadata": {},
   "outputs": [],
   "source": []
  }
 ],
 "metadata": {
  "kernelspec": {
   "display_name": "Python 3",
   "language": "python",
   "name": "python3"
  },
  "language_info": {
   "name": "python",
   "version": "3.10.18"
  }
 },
 "nbformat": 4,
 "nbformat_minor": 5
}
