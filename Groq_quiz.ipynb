{
 "cells": [
  {
   "cell_type": "code",
   "execution_count": 2,
   "id": "3f33446e",
   "metadata": {},
   "outputs": [],
   "source": [
    "import os\n",
    "from dotenv import load_dotenv\n",
    "load_dotenv()\n",
    "os.environ[\"GROQ_API_KEY\"]=os.getenv(\"GROQ_API_KEY\")\n",
    "os.environ[\"LANGCHAIN_API_KEY_GROQ\"]=os.getenv(\"LANGCHAIN_API_KEY_GROQ\")\n",
    "os.environ[\"LANGCHAIN_TRACING\"]=\"true\"\n",
    "os.environ[\"LANGCHAIN_PROJECT_GROQ\"]=os.getenv(\"LANGCHAIN_PROJECT_GROQ\")"
   ]
  },
  {
   "cell_type": "code",
   "execution_count": 6,
   "id": "741860df",
   "metadata": {},
   "outputs": [],
   "source": [
    "# calling model\n",
    "from langchain_groq import ChatGroq\n",
    "model=ChatGroq(model_name=\"llama-3.3-70b-versatile\", temperature=0.7)"
   ]
  },
  {
   "cell_type": "code",
   "execution_count": 5,
   "id": "745f8e64",
   "metadata": {},
   "outputs": [],
   "source": [
    "# define the prompt\n",
    "from langchain_core.prompts import ChatPromptTemplate\n",
    "prompt=ChatPromptTemplate(\n",
    "    [\n",
    "        (\"system\" , \"You are a teacher and you have to create {noofquestion} multiple choice question which have 4 option based on provide context {context} and set difficulties level according to the user {medium}\")\n",
    "    ]\n",
    ")\n"
   ]
  },
  {
   "cell_type": "markdown",
   "id": "96bb5e8b",
   "metadata": {},
   "source": [
    "Now to work on pdf to give the content to the model\n",
    "process or step\n",
    "\n",
    "pdf_load --> Data_ingesion --> splitting_data --> Embedding_data --> text to vector --> store vector --> chromadb\n",
    "\n",
    "1.> pypdf , pymupdf \n",
    "2.> text_splitter , Recursivtext\n",
    "3.> embedding by hugging face\n",
    "4.> store in chromadb\n"
   ]
  },
  {
   "cell_type": "code",
   "execution_count": 7,
   "id": "0cc6e1e8",
   "metadata": {},
   "outputs": [],
   "source": [
    "from  langchain_community.document_loaders import PyPDFLoader\n",
    "loaded_pdf=PyPDFLoader('deeplearning.pdf')"
   ]
  },
  {
   "cell_type": "code",
   "execution_count": 16,
   "id": "12a23181",
   "metadata": {},
   "outputs": [
    {
     "name": "stdout",
     "output_type": "stream",
     "text": [
      "Introduction to Deep Learning\n",
      "1. What is Deep Learning?\n",
      "Deep Learning is a subset of Machine Learning, which itself is a subset of Artificial Intelligence (AI). \n",
      "It is inspired by the structure and function of the human brain, namely the artificial neural network. \n",
      "Deep learning algorithms attempt to learn high-level abstractions in data by using multiple layers of\n",
      "processing.\n",
      "Deep learning has driven significant advances in areas such as computer vision, speech\n",
      "recognition, natural language processing (NLP), and autonomous vehicles. It is capable of handling\n",
      "large volumes of data and finding complex patterns.\n",
      "2. Difference Between AI, ML, and Deep Learning\n",
      "- **Artificial Intelligence (AI)**: A broad field aimed at building smart machines capable of performing\n",
      "tasks that typically require human intelligence.\n",
      "- **Machine Learning (ML)**: A subset of AI that allows systems to learn and improve from\n",
      "experience without being explicitly programmed.\n",
      "- **Deep Learning (DL)**: A subset of ML that uses neural networks with many layers (deep neural\n",
      "networks) to analyze various types of data.\n",
      "3. Neural Networks Basics\n",
      "Artificial Neural Networks (ANNs) are computing systems inspired by the biological neural networks.\n",
      "A neural network consists of layers of nodes, or \"neurons\". Each connection between neurons has a\n",
      "weight and a bias.\n",
      "- **Input Layer**: Takes in the features of the data.\n"
     ]
    }
   ],
   "source": [
    "result_pdf=loaded_pdf.load()\n",
    "print(result_pdf[0].page_content)"
   ]
  },
  {
   "cell_type": "code",
   "execution_count": 18,
   "id": "98b3fc3d",
   "metadata": {},
   "outputs": [],
   "source": [
    "# NOw break down loaded content into chunks \n",
    "from  langchain.text_splitter import RecursiveCharacterTextSplitter\n",
    "splitter=RecursiveCharacterTextSplitter(chunk_size=500 , chunk_overlap=10)"
   ]
  },
  {
   "cell_type": "code",
   "execution_count": 19,
   "id": "ed6780c8",
   "metadata": {},
   "outputs": [],
   "source": [
    "splitted_text=splitter.split_documents(result_pdf)"
   ]
  },
  {
   "cell_type": "code",
   "execution_count": 20,
   "id": "79b4a735",
   "metadata": {},
   "outputs": [
    {
     "name": "stdout",
     "output_type": "stream",
     "text": [
      "[Document(metadata={'producer': 'PyFPDF 1.7.2 http://pyfpdf.googlecode.com/', 'creator': 'PyPDF', 'creationdate': 'D:20250708063420', 'source': 'deeplearning.pdf', 'total_pages': 3, 'page': 0, 'page_label': '1'}, page_content='Introduction to Deep Learning\\n1. What is Deep Learning?\\nDeep Learning is a subset of Machine Learning, which itself is a subset of Artificial Intelligence (AI). \\nIt is inspired by the structure and function of the human brain, namely the artificial neural network. \\nDeep learning algorithms attempt to learn high-level abstractions in data by using multiple layers of\\nprocessing.\\nDeep learning has driven significant advances in areas such as computer vision, speech'), Document(metadata={'producer': 'PyFPDF 1.7.2 http://pyfpdf.googlecode.com/', 'creator': 'PyPDF', 'creationdate': 'D:20250708063420', 'source': 'deeplearning.pdf', 'total_pages': 3, 'page': 0, 'page_label': '1'}, page_content='recognition, natural language processing (NLP), and autonomous vehicles. It is capable of handling\\nlarge volumes of data and finding complex patterns.\\n2. Difference Between AI, ML, and Deep Learning\\n- **Artificial Intelligence (AI)**: A broad field aimed at building smart machines capable of performing\\ntasks that typically require human intelligence.\\n- **Machine Learning (ML)**: A subset of AI that allows systems to learn and improve from\\nexperience without being explicitly programmed.'), Document(metadata={'producer': 'PyFPDF 1.7.2 http://pyfpdf.googlecode.com/', 'creator': 'PyPDF', 'creationdate': 'D:20250708063420', 'source': 'deeplearning.pdf', 'total_pages': 3, 'page': 0, 'page_label': '1'}, page_content='- **Deep Learning (DL)**: A subset of ML that uses neural networks with many layers (deep neural\\nnetworks) to analyze various types of data.\\n3. Neural Networks Basics\\nArtificial Neural Networks (ANNs) are computing systems inspired by the biological neural networks.\\nA neural network consists of layers of nodes, or \"neurons\". Each connection between neurons has a\\nweight and a bias.\\n- **Input Layer**: Takes in the features of the data.'), Document(metadata={'producer': 'PyFPDF 1.7.2 http://pyfpdf.googlecode.com/', 'creator': 'PyPDF', 'creationdate': 'D:20250708063420', 'source': 'deeplearning.pdf', 'total_pages': 3, 'page': 1, 'page_label': '2'}, page_content='- **Hidden Layers**: Intermediate layers that apply weights and activation functions.\\n- **Output Layer**: Produces the prediction or result.\\n4. Activation Functions\\nActivation functions introduce non-linearity into the network. Common types include:\\n- **Sigmoid**: Outputs between 0 and 1.\\n- **ReLU (Rectified Linear Unit)**: f(x) = max(0, x), widely used.\\n- **Tanh**: Outputs between -1 and 1.\\n5. Forward and Backpropagation'), Document(metadata={'producer': 'PyFPDF 1.7.2 http://pyfpdf.googlecode.com/', 'creator': 'PyPDF', 'creationdate': 'D:20250708063420', 'source': 'deeplearning.pdf', 'total_pages': 3, 'page': 1, 'page_label': '2'}, page_content='- **Forward Propagation**: The input is passed through the network, and the output is calculated.\\n- **Backpropagation**: The error is calculated and propagated backward to update weights using\\noptimization algorithms like Gradient Descent.\\n6. Types of Neural Networks\\n- **Feedforward Neural Networks (FNNs)**: Information moves only forward.\\n- **Convolutional Neural Networks (CNNs)**: Excellent for image data.\\n- **Recurrent Neural Networks (RNNs)**: Ideal for sequential data.'), Document(metadata={'producer': 'PyFPDF 1.7.2 http://pyfpdf.googlecode.com/', 'creator': 'PyPDF', 'creationdate': 'D:20250708063420', 'source': 'deeplearning.pdf', 'total_pages': 3, 'page': 1, 'page_label': '2'}, page_content='- **Generative Adversarial Networks (GANs)**: Consist of generator and discriminator networks.\\n7. Applications of Deep Learning\\n- **Computer Vision**: Object detection, face recognition, medical imaging.\\n- **Natural Language Processing**: Chatbots, translation, sentiment analysis.\\n- **Speech Recognition**: Virtual assistants, transcription.\\n- **Autonomous Systems**: Self-driving cars, drones.\\n- **Healthcare**: Drug discovery, diagnostics.'), Document(metadata={'producer': 'PyFPDF 1.7.2 http://pyfpdf.googlecode.com/', 'creator': 'PyPDF', 'creationdate': 'D:20250708063420', 'source': 'deeplearning.pdf', 'total_pages': 3, 'page': 2, 'page_label': '3'}, page_content='8. Frameworks and Tools\\nPopular libraries and frameworks include:\\n- **TensorFlow**\\n- **Keras**\\n- **PyTorch**\\n- **MXNet**\\n- **CNTK**\\nThese tools make building, training, and deploying deep learning models easier and more efficient.\\n9. Challenges in Deep Learning\\n- Requires large amounts of data.\\n- High computational cost.\\n- Black-box nature makes interpretation difficult.\\n- Risk of overfitting.\\n10. The Future of Deep Learning'), Document(metadata={'producer': 'PyFPDF 1.7.2 http://pyfpdf.googlecode.com/', 'creator': 'PyPDF', 'creationdate': 'D:20250708063420', 'source': 'deeplearning.pdf', 'total_pages': 3, 'page': 2, 'page_label': '3'}, page_content=\"Deep learning continues to evolve rapidly. With advances in hardware and research, it's being\\nintegrated into nearly every industry. Emerging areas include:\\n- Edge AI and TinyML\\n- Explainable AI (XAI)\\n- Multimodal learning\\n- Quantum deep learning\")]\n"
     ]
    }
   ],
   "source": [
    "print(splitted_text)"
   ]
  },
  {
   "cell_type": "code",
   "execution_count": 22,
   "id": "4295f9db",
   "metadata": {},
   "outputs": [
    {
     "name": "stdout",
     "output_type": "stream",
     "text": [
      "Introduction to Deep Learning\n",
      "1. What is Deep Learning?\n",
      "Deep Learning is a subset of Machine Learning, which itself is a subset of Artificial Intelligence (AI). \n",
      "It is inspired by the structure and function of the human brain, namely the artificial neural network. \n",
      "Deep learning algorithms attempt to learn high-level abstractions in data by using multiple layers of\n",
      "processing.\n",
      "Deep learning has driven significant advances in areas such as computer vision, speech\n",
      "recognition, natural language processing (NLP), and autonomous vehicles. It is capable of handling\n",
      "large volumes of data and finding complex patterns.\n",
      "2. Difference Between AI, ML, and Deep Learning\n",
      "- **Artificial Intelligence (AI)**: A broad field aimed at building smart machines capable of performing\n",
      "tasks that typically require human intelligence.\n",
      "- **Machine Learning (ML)**: A subset of AI that allows systems to learn and improve from\n",
      "experience without being explicitly programmed.\n",
      "- **Deep Learning (DL)**: A subset of ML that uses neural networks with many layers (deep neural\n",
      "networks) to analyze various types of data.\n",
      "3. Neural Networks Basics\n",
      "Artificial Neural Networks (ANNs) are computing systems inspired by the biological neural networks.\n",
      "A neural network consists of layers of nodes, or \"neurons\". Each connection between neurons has a\n",
      "weight and a bias.\n",
      "- **Input Layer**: Takes in the features of the data.\n"
     ]
    }
   ],
   "source": [
    "puretext=result_pdf[0].page_content\n",
    "print(puretext)"
   ]
  },
  {
   "cell_type": "code",
   "execution_count": 26,
   "id": "1183af1c",
   "metadata": {},
   "outputs": [
    {
     "name": "stdout",
     "output_type": "stream",
     "text": [
      "Introduction to Deep Learning\n",
      "1. What is Deep Learning?\n",
      "Deep Learning is a subset of Machine Learning, which itself is a subset of Artificial Intelligence (AI). \n",
      "It is inspired by the structure and function of the human brain, namely the artificial neural network. \n",
      "Deep learning algorithms attempt to learn high-level abstractions in data by using multiple layers of\n",
      "processing.\n",
      "Deep learning has driven significant advances in areas such as computer vision, speech\n"
     ]
    }
   ],
   "source": [
    "splitted_text_pure=splitter.split_text(puretext)\n",
    "print(splitted_text[0].page_content)"
   ]
  },
  {
   "cell_type": "code",
   "execution_count": null,
   "id": "3d9783b1",
   "metadata": {},
   "outputs": [],
   "source": [
    "# now ask the query\n",
    "text=\"Hello i am kunal\"\n",
    "chain=prompt|model\n",
    "result=chain.invoke({\"noofquestion\" : \"10\" , \"context\" :text , \"medium\" :\"easy\"})"
   ]
  }
 ],
 "metadata": {
  "kernelspec": {
   "display_name": "Python 3",
   "language": "python",
   "name": "python3"
  },
  "language_info": {
   "codemirror_mode": {
    "name": "ipython",
    "version": 3
   },
   "file_extension": ".py",
   "mimetype": "text/x-python",
   "name": "python",
   "nbconvert_exporter": "python",
   "pygments_lexer": "ipython3",
   "version": "3.10.18"
  }
 },
 "nbformat": 4,
 "nbformat_minor": 5
}
