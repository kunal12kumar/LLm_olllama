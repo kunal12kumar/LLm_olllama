{
 "cells": [
  {
   "cell_type": "code",
   "execution_count": 2,
   "id": "3f33446e",
   "metadata": {},
   "outputs": [],
   "source": [
    "import os\n",
    "from dotenv import load_dotenv\n",
    "load_dotenv()\n",
    "os.environ[\"GROQ_API_KEY\"]=os.getenv(\"GROQ_API_KEY\")\n",
    "os.environ[\"LANGCHAIN_API_KEY_GROQ\"]=os.getenv(\"LANGCHAIN_API_KEY_GROQ\")\n",
    "os.environ[\"LANGCHAIN_TRACING\"]=\"true\"\n",
    "os.environ[\"LANGCHAIN_PROJECT_GROQ\"]=os.getenv(\"LANGCHAIN_PROJECT_GROQ\")"
   ]
  },
  {
   "cell_type": "code",
   "execution_count": 6,
   "id": "741860df",
   "metadata": {},
   "outputs": [],
   "source": [
    "# calling model\n",
    "from langchain_groq import ChatGroq\n",
    "model=ChatGroq(model_name=\"llama-3.3-70b-versatile\", temperature=0.7)"
   ]
  },
  {
   "cell_type": "code",
   "execution_count": 5,
   "id": "745f8e64",
   "metadata": {},
   "outputs": [],
   "source": [
    "# define the prompt\n",
    "from langchain_core.prompts import ChatPromptTemplate\n",
    "prompt=ChatPromptTemplate(\n",
    "    [\n",
    "        (\"system\" , \"You are a teacher and you have to create {noofquestion} multiple choice question which have 4 option based on provide context {context} and set difficulties level according to the user {medium}\")\n",
    "    ]\n",
    ")\n"
   ]
  },
  {
   "cell_type": "code",
   "execution_count": null,
   "id": "3d9783b1",
   "metadata": {},
   "outputs": [],
   "source": []
  }
 ],
 "metadata": {
  "kernelspec": {
   "display_name": "Python 3",
   "language": "python",
   "name": "python3"
  },
  "language_info": {
   "codemirror_mode": {
    "name": "ipython",
    "version": 3
   },
   "file_extension": ".py",
   "mimetype": "text/x-python",
   "name": "python",
   "nbconvert_exporter": "python",
   "pygments_lexer": "ipython3",
   "version": "3.10.18"
  }
 },
 "nbformat": 4,
 "nbformat_minor": 5
}
