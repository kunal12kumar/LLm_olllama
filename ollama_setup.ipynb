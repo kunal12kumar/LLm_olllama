{
 "cells": [
  {
   "cell_type": "code",
   "execution_count": 4,
   "id": "bf067910",
   "metadata": {},
   "outputs": [],
   "source": [
    "import os\n",
    "from dotenv import load_dotenv\n",
    "load_dotenv()\n",
    "os.environ[\"LANGCHAIN_API_KEY\"]=os.getenv(\"LANGCHAIN_API_KEY\")\n",
    "os.environ[\"LANGCHAIN_TRACKING_V2\"]=\"true\"\n",
    "os.environ[\"LANGCHAIN_PROJECT\"]=os.getenv(\"LANGCHAIN_PROJECT\")"
   ]
  },
  {
   "cell_type": "code",
   "execution_count": 5,
   "id": "3a8fa91a",
   "metadata": {},
   "outputs": [
    {
     "name": "stderr",
     "output_type": "stream",
     "text": [
      "C:\\Users\\Acer\\AppData\\Local\\Temp\\ipykernel_6072\\2898610457.py:2: LangChainDeprecationWarning: The class `Ollama` was deprecated in LangChain 0.3.1 and will be removed in 1.0.0. An updated version of the class exists in the :class:`~langchain-ollama package and should be used instead. To use it run `pip install -U :class:`~langchain-ollama` and import as `from :class:`~langchain_ollama import OllamaLLM``.\n",
      "  use_ollama=Ollama(model=\"llama3.2:1b\")\n"
     ]
    }
   ],
   "source": [
    "from langchain_community.llms import Ollama\n",
    "use_ollama=Ollama(model=\"llama3.2:1b\")"
   ]
  },
  {
   "cell_type": "code",
   "execution_count": 6,
   "id": "0151f872",
   "metadata": {},
   "outputs": [],
   "source": [
    "text=\"how are you\"\n",
    "result=use_ollama.invoke(text)"
   ]
  },
  {
   "cell_type": "code",
   "execution_count": 7,
   "id": "09eccc3d",
   "metadata": {},
   "outputs": [
    {
     "name": "stdout",
     "output_type": "stream",
     "text": [
      "I'm doing well, thank you for asking. Is there anything I can help you with or would you like to talk about something in particular?\n"
     ]
    }
   ],
   "source": [
    "print(result)"
   ]
  },
  {
   "cell_type": "code",
   "execution_count": 8,
   "id": "286ea73c",
   "metadata": {},
   "outputs": [],
   "source": [
    "# NOw we try to give text from pdf , text file and from url and then use our model to give answer according to that resources\n"
   ]
  },
  {
   "cell_type": "markdown",
   "id": "4a1130ca",
   "metadata": {},
   "source": [
    "we are going to create a generative app which will give answer according to what we want \n",
    "\n"
   ]
  },
  {
   "cell_type": "code",
   "execution_count": 23,
   "id": "34ac2db7",
   "metadata": {},
   "outputs": [],
   "source": [
    "# creating a chatprompt template by which we are giving instrution how to work it system and user we are \n",
    "from langchain_core.prompts import ChatPromptTemplate\n",
    "prompt=ChatPromptTemplate.from_messages(\n",
    "    [\n",
    "        (\"system\", \"You are a student \"),\n",
    "        (\"user\", \"{userquestion}\")\n",
    "    ]\n",
    ")"
   ]
  },
  {
   "cell_type": "code",
   "execution_count": 24,
   "id": "6c39569e",
   "metadata": {},
   "outputs": [],
   "source": [
    "chain=prompt|use_ollama\n",
    "result=chain.invoke({\"userquestion\":\"how you feel if teacher used to take attendence online\"})"
   ]
  },
  {
   "cell_type": "code",
   "execution_count": 25,
   "id": "aeb0bc4b",
   "metadata": {},
   "outputs": [
    {
     "name": "stdout",
     "output_type": "stream",
     "text": [
      "As a student, I would feel quite frustrated and disheartened if my teacher started taking attendance online. Here's why:\n",
      "\n",
      "Firstly, the concept of attendance is a physical presence in a classroom, where students show up on time to learn and participate in discussions. Online attendance doesn't replace that physical presence, but rather creates an illusion of it.\n",
      "\n",
      "If I'm not physically present in class, I wouldn't be able to engage with the material, ask questions, or contribute to group discussions. My teacher would still expect me to attend classes regularly, but they wouldn't know if I'm actually there or not.\n",
      "\n",
      "This could lead to missed opportunities for learning and improvement, as students who don't attend class might feel left behind or not challenged enough. It also creates a sense of disconnection between teachers and their students, which can make it harder for us to build relationships and get support when we need it.\n",
      "\n",
      "Moreover, online attendance may not be as reliable as traditional methods, such as checking attendance at the door or using a physical attendance tracker. What if my parents are visiting from out of town and I'm absent? Or what if I have a family emergency and can't attend class?\n",
      "\n",
      "Finally, using online attendance doesn't take into account individual circumstances that might prevent students from attending class, such as health issues, travel disruptions, or personal emergencies.\n",
      "\n",
      "Overall, while technology can be a useful tool in some ways, relying solely on online attendance to assess student engagement and behavior is not an effective way to ensure that every student has access to the instruction they need.\n"
     ]
    }
   ],
   "source": [
    "print(result)"
   ]
  },
  {
   "cell_type": "code",
   "execution_count": null,
   "id": "065b6256",
   "metadata": {},
   "outputs": [],
   "source": []
  },
  {
   "cell_type": "code",
   "execution_count": null,
   "id": "c94b7869",
   "metadata": {},
   "outputs": [],
   "source": []
  }
 ],
 "metadata": {
  "kernelspec": {
   "display_name": "Python 3",
   "language": "python",
   "name": "python3"
  },
  "language_info": {
   "codemirror_mode": {
    "name": "ipython",
    "version": 3
   },
   "file_extension": ".py",
   "mimetype": "text/x-python",
   "name": "python",
   "nbconvert_exporter": "python",
   "pygments_lexer": "ipython3",
   "version": "3.10.18"
  }
 },
 "nbformat": 4,
 "nbformat_minor": 5
}
